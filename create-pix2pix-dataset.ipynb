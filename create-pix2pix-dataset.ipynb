{
 "cells": [
  {
   "cell_type": "code",
   "execution_count": 1,
   "metadata": {},
   "outputs": [],
   "source": [
    "import numpy as np\n",
    "from PIL import Image\n",
    "from pathlib import Path\n",
    "import os\n",
    "import matplotlib.pyplot as plt\n",
    "os.environ[\"OPENCV_IO_ENABLE_OPENEXR\"]=\"1\"\n",
    "import cv2"
   ]
  },
  {
   "cell_type": "markdown",
   "metadata": {},
   "source": [
    "1. Load newly rendered patched in & normalise to [0,1]\n",
    "2. Load normal patches in\n",
    "3. Load regular patches in\n",
    "4. Resize to 64 x 64\n",
    "5. Place in respective folders (test set = 21)"
   ]
  },
  {
   "cell_type": "code",
   "execution_count": 2,
   "metadata": {},
   "outputs": [],
   "source": [
    "tonemapper = cv2.createTonemap(gamma=2.2)"
   ]
  },
  {
   "cell_type": "code",
   "execution_count": 4,
   "metadata": {},
   "outputs": [
    {
     "name": "stderr",
     "output_type": "stream",
     "text": [
      "[ WARN:0@104.616] global matrix_expressions.cpp:1333 assign OpenCV/MatExpr: processing of multi-channel arrays might be changed in the future: https://github.com/opencv/opencv/issues/16739\n"
     ]
    }
   ],
   "source": [
    "path_rendered_patches = sorted(Path(f\"interpolated-patches-per-point/\").glob(\"**/*.exr\"))\n",
    "\n",
    "rendered_patches = [cv2.resize(cv2.imread(str(img), cv2.IMREAD_ANYCOLOR | cv2.IMREAD_ANYDEPTH), (64,64), interpolation=cv2.INTER_CUBIC) for img in path_rendered_patches]\n",
    "\n",
    "images = np.zeros((64, 64 * 8386, 3), dtype=np.float32)\n",
    "count = 0\n",
    "\n",
    "for i in range(0, 64 * 8386, 64):\n",
    "    img = rendered_patches[count]\n",
    "    images[:,i:i+64,:] = img\n",
    "    count += 1\n",
    "\n",
    "images_tonemapped = tonemapper.process(images.copy())"
   ]
  },
  {
   "cell_type": "code",
   "execution_count": 6,
   "metadata": {},
   "outputs": [],
   "source": [
    "images_tonemapped_split = np.zeros((8386, 64, 64, 3), dtype=np.float32)\n",
    "count = 0\n",
    "for i in range(0, 64 * 8386, 64):\n",
    "    img = images_tonemapped[:,i:i+64,:]\n",
    "    images_tonemapped_split[count] = img\n",
    "    count += 1"
   ]
  },
  {
   "cell_type": "code",
   "execution_count": 7,
   "metadata": {},
   "outputs": [
    {
     "data": {
      "text/plain": [
       "(64, 64, 3)"
      ]
     },
     "execution_count": 7,
     "metadata": {},
     "output_type": "execute_result"
    }
   ],
   "source": [
    "images_tonemapped_split[0].shape"
   ]
  },
  {
   "cell_type": "code",
   "execution_count": 8,
   "metadata": {},
   "outputs": [
    {
     "data": {
      "text/plain": [
       "<matplotlib.image.AxesImage at 0x7f9bd0cf6170>"
      ]
     },
     "execution_count": 8,
     "metadata": {},
     "output_type": "execute_result"
    },
    {
     "data": {
      "image/png": "[encoded data removed]",
      "text/plain": [
       "<Figure size 640x480 with 1 Axes>"
      ]
     },
     "metadata": {},
     "output_type": "display_data"
    }
   ],
   "source": [
    "plt.imshow(cv2.cvtColor(images_tonemapped_split[0], cv2.COLOR_BGR2RGB))"
   ]
  },
  {
   "cell_type": "code",
   "execution_count": 10,
   "metadata": {},
   "outputs": [
    {
     "data": {
      "text/plain": [
       "True"
      ]
     },
     "execution_count": 10,
     "metadata": {},
     "output_type": "execute_result"
    }
   ],
   "source": [
    "#cv2.imwrite('test_image.bmp',np.clip(images_tonemapped_split[0]*255, 0, 255).astype(np.uint8))"
   ]
  },
  {
   "cell_type": "markdown",
   "metadata": {},
   "source": [
    "1. completed"
   ]
  },
  {
   "cell_type": "code",
   "execution_count": 24,
   "metadata": {},
   "outputs": [],
   "source": [
    "path_linear_patches = sorted(Path(f\"linear_patches/\").glob(\"**/*.bmp\"))\n",
    "path_normal_patches = sorted(Path(f\"normal_patches/\").glob(\"**/*.bmp\"))\n",
    "path_rendered_patches = sorted(Path(f\"interpolated-patches-per-point/\").glob(\"**/*.exr\"))\n",
    "\n",
    "rendered_patches = [cv2.imread(str(img), cv2.IMREAD_ANYCOLOR | cv2.IMREAD_ANYDEPTH) for img in path_rendered_patches]\n",
    "linear_patches = [cv2.imread(str(img), cv2.IMREAD_ANYCOLOR | cv2.IMREAD_ANYDEPTH) for img in path_linear_patches]\n",
    "normal_patches = [cv2.imread(str(img), cv2.IMREAD_ANYCOLOR | cv2.IMREAD_ANYDEPTH) for img in path_normal_patches]"
   ]
  },
  {
   "cell_type": "markdown",
   "metadata": {},
   "source": [
    "2-4 completed"
   ]
  },
  {
   "cell_type": "code",
   "execution_count": 25,
   "metadata": {},
   "outputs": [],
   "source": [
    "S021_indices = []\n",
    "for i, path in enumerate(path_linear_patches):\n",
    "    if 'S021' in path.parts:\n",
    "        S021_indices.append(i)"
   ]
  },
  {
   "cell_type": "code",
   "execution_count": 28,
   "metadata": {},
   "outputs": [],
   "source": [
    "for i in range(len(path_linear_patches)):\n",
    "    if i not in S021_indices:\n",
    "        cv2.imwrite(f'p2p/trainA/{i}.exr',rendered_patches[i])\n",
    "        cv2.imwrite(f'p2p/trainB/{i}.bmp',linear_patches[i])\n",
    "        cv2.imwrite(f'p2p/trainN/{i}.bmp',normal_patches[i])\n",
    "    else:\n",
    "        cv2.imwrite(f'p2p/testA/{i}.exr',rendered_patches[i])\n",
    "        cv2.imwrite(f'p2p/testB/{i}.bmp',linear_patches[i])\n",
    "        cv2.imwrite(f'p2p/testN/{i}.bmp',normal_patches[i])"
   ]
  }
 ],
 "metadata": {
  "kernelspec": {
   "display_name": "ml_env",
   "language": "python",
   "name": "python3"
  },
  "language_info": {
   "codemirror_mode": {
    "name": "ipython",
    "version": 3
   },
   "file_extension": ".py",
   "mimetype": "text/x-python",
   "name": "python",
   "nbconvert_exporter": "python",
   "pygments_lexer": "ipython3",
   "version": "3.10.10"
  }
 },
 "nbformat": 4,
 "nbformat_minor": 2
}
