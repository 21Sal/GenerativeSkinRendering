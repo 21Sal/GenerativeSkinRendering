{
 "cells": [
  {
   "cell_type": "code",
   "execution_count": 1,
   "metadata": {},
   "outputs": [],
   "source": [
    "import numpy as np\n",
    "import os\n",
    "os.environ[\"OPENCV_IO_ENABLE_OPENEXR\"]=\"1\"\n",
    "import cv2\n",
    "from pathlib import Path\n",
    "import matplotlib.pyplot as plt\n",
    "from scipy.spatial.distance import cdist\n",
    "from PIL import Image"
   ]
  },
  {
   "cell_type": "code",
   "execution_count": 2,
   "metadata": {},
   "outputs": [],
   "source": [
    "template_file = \"\"\n",
    "mel_string = \"MEL\"\n",
    "hg_string = \"HG\"\n",
    "epth_string = \"EPTH\""
   ]
  },
  {
   "cell_type": "code",
   "execution_count": 3,
   "metadata": {},
   "outputs": [],
   "source": [
    "with open(\"template.pbrt\", \"r\") as f:\n",
    "    template_file = f.read()\n",
    "\n",
    "assert template_file != \"\""
   ]
  },
  {
   "cell_type": "code",
   "execution_count": 4,
   "metadata": {},
   "outputs": [],
   "source": [
    "pbrt_renders = Path('pbrt-outputs')"
   ]
  },
  {
   "cell_type": "code",
   "execution_count": 5,
   "metadata": {},
   "outputs": [],
   "source": [
    "bases = np.zeros((1000,80,80,3), dtype=\"float32\")\n",
    "points = np.zeros((1000,3))"
   ]
  },
  {
   "cell_type": "code",
   "execution_count": 6,
   "metadata": {},
   "outputs": [],
   "source": [
    "for i, item in enumerate(pbrt_renders.iterdir()):\n",
    "    if item.is_file():\n",
    "        f = item.name\n",
    "        m = f.index('m')\n",
    "        l = f.index('l')\n",
    "        h = f.index('h')\n",
    "        g = f.index('g')\n",
    "        p = f.index('p')\n",
    "\n",
    "        points[i,0] = float(f[:m])\n",
    "        points[i,1] = float(f[l+2:h])\n",
    "        points[i,2] = float(f[g+2:p-1])\n",
    "\n",
    "        bases[i,:] = cv2.imread(f'{item}', cv2.IMREAD_ANYCOLOR | cv2.IMREAD_ANYDEPTH)\n"
   ]
  },
  {
   "cell_type": "code",
   "execution_count": 7,
   "metadata": {},
   "outputs": [],
   "source": [
    "for subj_id in range(23):\n",
    "    output_data = Path(f'output-data/S{subj_id:03d}')\n",
    "    mel_paths = sorted(output_data.glob('**/out-mel/*.txt'))\n",
    "    hg_paths = sorted(output_data.glob('**/out-hem/*.txt'))\n",
    "    epth_paths = sorted(output_data.glob('**/out-epth/*.txt'))\n",
    "    \n",
    "    mels = [np.loadtxt(f, delimiter=',') for f in mel_paths]\n",
    "    hgs = [np.loadtxt(f, delimiter=',') for f in hg_paths]\n",
    "    epths = [np.loadtxt(f, delimiter=',') for f in epth_paths]\n",
    "\n",
    "    n = len(mels)\n",
    "    \n",
    "    Path(f\"interpolated-patches/S{subj_id:03d}\").mkdir(parents=True, exist_ok=True)\n",
    "\n",
    "    for i in range(n):\n",
    "        patch_mels = mels[i]\n",
    "        patch_hgs = hgs[i]\n",
    "        patch_epths = epths[i]\n",
    "\n",
    "        h, w = patch_mels.shape\n",
    "\n",
    "        interpolated = np.zeros((h,w,3), dtype='float32')\n",
    "\n",
    "        for row in range(h):\n",
    "            for col in range(w):\n",
    "                mel_p = patch_mels[row,col]\n",
    "                hg_p = patch_hgs[row,col]\n",
    "                epth_p = patch_epths[row,col] * 0.001\n",
    "\n",
    "                sorted_points = points[np.argsort(cdist(points,[[mel_p,hg_p,epth_p]]).squeeze())]\n",
    "                f, g, b, c = sorted_points[:4]\n",
    "\n",
    "                d_pf = cdist([f], [[mel_p, hg_p, epth_p]])\n",
    "                d_pg = cdist([g], [[mel_p, hg_p, epth_p]])\n",
    "                d_pb = cdist([b], [[mel_p, hg_p, epth_p]])\n",
    "                d_pc = cdist([c], [[mel_p, hg_p, epth_p]])\n",
    "                d_t = d_pf + d_pg + d_pb + d_pc\n",
    "\n",
    "                w_f = (d_pf/d_t)\n",
    "                w_g = (d_pg/d_t)\n",
    "                w_b = (d_pb/d_t)\n",
    "                w_c = (d_pc/d_t)\n",
    "\n",
    "                basis_f = cv2.resize(bases[np.argwhere(points == f)[0][0]], (w,h), interpolation=cv2.INTER_AREA)\n",
    "                basis_g = cv2.resize(bases[np.argwhere(points == g)[0][0]], (w,h), interpolation=cv2.INTER_AREA)\n",
    "                basis_b = cv2.resize(bases[np.argwhere(points == b)[0][0]], (w,h), interpolation=cv2.INTER_AREA)\n",
    "                basis_c = cv2.resize(bases[np.argwhere(points == c)[0][0]], (w,h), interpolation=cv2.INTER_AREA)\n",
    "\n",
    "                \n",
    "                interpolated[row,col,:] = (w_f * basis_f[row,col,:]) + (w_g * basis_g[row,col,:]) + (w_b * basis_b[row,col,:]) + (w_c * basis_c[row,col,:])\n",
    "                \n",
    "        cv2.imwrite(f\"interpolated-patches/S{subj_id:03d}/{i:03d}.exr\", interpolated)"
   ]
  }
 ],
 "metadata": {
  "kernelspec": {
   "display_name": "ml_env",
   "language": "python",
   "name": "python3"
  },
  "language_info": {
   "codemirror_mode": {
    "name": "ipython",
    "version": 3
   },
   "file_extension": ".py",
   "mimetype": "text/x-python",
   "name": "python",
   "nbconvert_exporter": "python",
   "pygments_lexer": "ipython3",
   "version": "3.10.10"
  }
 },
 "nbformat": 4,
 "nbformat_minor": 2
}
