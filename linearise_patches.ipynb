{
 "cells": [
  {
   "cell_type": "code",
   "execution_count": 1,
   "metadata": {},
   "outputs": [],
   "source": [
    "import numpy as np\n",
    "from PIL import Image\n",
    "from pathlib import Path\n",
    "import colour"
   ]
  },
  {
   "cell_type": "code",
   "execution_count": 14,
   "metadata": {},
   "outputs": [],
   "source": [
    "for subject in range(0,23):\n",
    "    patches_parent_path = Path(f\"patches/S{subject:03d}\")\n",
    "    patches_paths = sorted(list(patches_parent_path.glob(\"*.bmp\")))\n",
    "    for i in range(len(patches_paths)):\n",
    "        patch_path = patches_paths[i]\n",
    "        patch = np.array(Image.open(patch_path))\n",
    "        patch = patch / 255.0\n",
    "        patch = colour.models.eotf_sRGB(patch)\n",
    "\n",
    "        Path(f\"linear_patches/S{subject:03d}\").mkdir(parents=True, exist_ok=True)\n",
    "        Image.fromarray((patch * 255.0).astype(np.uint8)).save(f\"linear_patches/S{subject:03d}/{i:03d}.bmp\")\n"
   ]
  }
 ],
 "metadata": {
  "kernelspec": {
   "display_name": "ml_env",
   "language": "python",
   "name": "python3"
  },
  "language_info": {
   "codemirror_mode": {
    "name": "ipython",
    "version": 3
   },
   "file_extension": ".py",
   "mimetype": "text/x-python",
   "name": "python",
   "nbconvert_exporter": "python",
   "pygments_lexer": "ipython3",
   "version": "3.10.10"
  }
 },
 "nbformat": 4,
 "nbformat_minor": 2
}
