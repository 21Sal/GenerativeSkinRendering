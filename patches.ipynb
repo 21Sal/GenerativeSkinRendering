{
 "cells": [
  {
   "cell_type": "code",
   "execution_count": 1,
   "metadata": {},
   "outputs": [],
   "source": [
    "import numpy as np\n",
    "from PIL import Image\n",
    "from pathlib import Path"
   ]
  },
  {
   "cell_type": "code",
   "execution_count": 2,
   "metadata": {},
   "outputs": [],
   "source": [
    "def get_face_size(subj_id):\n",
    "    assert subj_id >= 0\n",
    "    assert subj_id <= 22\n",
    "    \n",
    "    img = np.array(Image.open(f\"../prbx/Skin_code/data/ICT_3DRFE_mod/S{subj_id:03d}//shader/S{subj_id:03d}_E00_Mask.bmp\"))\n",
    "\n",
    "    col_forehead = [247,42,206]\n",
    "    col_cheeks = [215,245,151]\n",
    "    col_chin = [228,149,79]\n",
    "\n",
    "    mask1 = np.all(img == col_forehead, axis=2)\n",
    "    mask2 = np.all(img == col_cheeks, axis=2)\n",
    "    mask3 = np.all(img == col_chin, axis=2)\n",
    "    mask = mask1 | mask2 | mask3\n",
    "    img[~mask, :] = [0,0,0]\n",
    "\n",
    "    nz = np.nonzero(img)\n",
    "    h = nz[0].max() - nz[0].min()\n",
    "    w = nz[1].max() - nz[1].min()\n",
    "    \n",
    "    return h,w"
   ]
  },
  {
   "cell_type": "code",
   "execution_count": 3,
   "metadata": {},
   "outputs": [],
   "source": [
    "def create_patches(subj_id):\n",
    "    ih, iw = get_face_size(subj_id)\n",
    "\n",
    "    height_px_per_cm = ih/19.0\n",
    "    width_px_per_cm = iw/14.0\n",
    "\n",
    "    mask_img = np.array(Image.open(f\"../prbx/Skin_code/data/ICT_3DRFE_mod/S{subj_id:03d}//shader/S{subj_id:03d}_E00_Mask.bmp\"))\n",
    "    normal_img_r = np.array(Image.open(f\"../prbx/Skin_code/data/ICT_3DRFE_mod/S{subj_id:03d}//shader/diff_normal_r.bmp\"))\n",
    "    normal_img_g = np.array(Image.open(f\"../prbx/Skin_code/data/ICT_3DRFE_mod/S{subj_id:03d}//shader/diff_normal_g.bmp\"))\n",
    "    normal_img_b = np.array(Image.open(f\"../prbx/Skin_code/data/ICT_3DRFE_mod/S{subj_id:03d}//shader/diff_normal_b.bmp\"))\n",
    "\n",
    "    normal_combined = np.zeros_like(normal_img_r)\n",
    "    normal_combined[:,:,0] = normal_img_r[:,:,0]\n",
    "    normal_combined[:,:,1] = normal_img_g[:,:,1]\n",
    "    normal_combined[:,:,2] = normal_img_b[:,:,2]\n",
    "\n",
    "    count = 0\n",
    "    height_step = int( 0.8 * height_px_per_cm) # 20% overlap to allow for a smoother transition to be more likely from the GAN\n",
    "    width_step = int(0.8 * width_px_per_cm)\n",
    "\n",
    "    for i in range(0,normal_combined.shape[0]-height_step,height_step):\n",
    "        for j in range(0,normal_combined.shape[1]-width_step,width_step):\n",
    "            if np.all(mask_img[i:i+int(height_px_per_cm),j:j+int(width_px_per_cm)] > 0):\n",
    "                Path(f\"normal_patches/S{subj_id:03d}\").mkdir(parents=True, exist_ok=True)\n",
    "                Image.fromarray(normal_combined[i:i+int(height_px_per_cm),j:j+int(width_px_per_cm)]).save(f\"normal_patches/S{subj_id:03d}/{count:03d}.bmp\")\n",
    "                count += 1"
   ]
  },
  {
   "cell_type": "code",
   "execution_count": 4,
   "metadata": {},
   "outputs": [],
   "source": [
    "for subject in range(0,23):\n",
    "    create_patches(subject)"
   ]
  }
 ],
 "metadata": {
  "kernelspec": {
   "display_name": "ml_env",
   "language": "python",
   "name": "python3"
  },
  "language_info": {
   "codemirror_mode": {
    "name": "ipython",
    "version": 3
   },
   "file_extension": ".py",
   "mimetype": "text/x-python",
   "name": "python",
   "nbconvert_exporter": "python",
   "pygments_lexer": "ipython3",
   "version": "3.10.10"
  },
  "orig_nbformat": 4,
  "vscode": {
   "interpreter": {
    "hash": "fa33a53bb643e198a559a420ace2b959678547a2d70b08630c0a26082d907708"
   }
  }
 },
 "nbformat": 4,
 "nbformat_minor": 2
}
