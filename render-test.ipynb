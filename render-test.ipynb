{
 "cells": [
  {
   "cell_type": "code",
   "execution_count": 1,
   "metadata": {},
   "outputs": [],
   "source": [
    "import numpy as np\n",
    "from PIL import Image\n",
    "from pathlib import Path\n",
    "from scipy import stats\n",
    "import matplotlib.pyplot as plt\n",
    "import os\n",
    "os.environ[\"OPENCV_IO_ENABLE_OPENEXR\"]=\"1\"\n",
    "import cv2\n"
   ]
  },
  {
   "cell_type": "code",
   "execution_count": 2,
   "metadata": {},
   "outputs": [],
   "source": [
    "points = set()"
   ]
  },
  {
   "cell_type": "code",
   "execution_count": 3,
   "metadata": {},
   "outputs": [
    {
     "name": "stdout",
     "output_type": "stream",
     "text": [
      "S000\n",
      "S001\n",
      "S002\n",
      "S003\n",
      "S004\n",
      "S005\n",
      "S006\n",
      "S007\n",
      "S008\n",
      "S009\n",
      "S010\n",
      "S011\n",
      "S012\n",
      "S013\n",
      "S014\n",
      "S015\n",
      "S016\n",
      "S017\n",
      "S018\n",
      "S019\n",
      "S020\n",
      "S021\n",
      "S022\n"
     ]
    }
   ],
   "source": [
    "for subj_id in range(23):\n",
    "    output_data = Path(f'output-data/S{subj_id:03d}')\n",
    "    mel_paths = sorted(output_data.glob('**/out-mel/*.txt'))\n",
    "    hg_paths = sorted(output_data.glob('**/out-hem/*.txt'))\n",
    "    epth_paths = sorted(output_data.glob('**/out-epth/*.txt'))\n",
    "\n",
    "    \n",
    "    mels =[np.loadtxt(f, delimiter=',') for f in mel_paths]\n",
    "    hgs = [np.loadtxt(f, delimiter=',') for f in hg_paths]\n",
    "    epths = [np.loadtxt(f, delimiter=',') for f in epth_paths]\n",
    "\n",
    "    for i in range(len(mel_paths)):\n",
    "        patch_mels = mels[i]\n",
    "        patch_hgs = hgs[i]\n",
    "        patch_epths = epths[i]\n",
    "\n",
    "        h, w = patch_mels.shape\n",
    "        \n",
    "        for row in range(h):\n",
    "            for col in range(w):\n",
    "                mel_p = patch_mels[row,col]\n",
    "                hg_p = patch_hgs[row,col]\n",
    "                epth_p = patch_epths[row,col] * 0.001\n",
    "\n",
    "                points.add((mel_p,hg_p,epth_p))\n",
    "    \n",
    "    print(f\"S{subj_id:03d}\")\n"
   ]
  },
  {
   "cell_type": "code",
   "execution_count": 4,
   "metadata": {},
   "outputs": [],
   "source": [
    "points = list(points)"
   ]
  },
  {
   "cell_type": "code",
   "execution_count": 5,
   "metadata": {},
   "outputs": [],
   "source": [
    "template_file = \"\"\n",
    "mel_string = \"MEL\"\n",
    "hg_string = \"HG\"\n",
    "epth_string = \"EPTH\""
   ]
  },
  {
   "cell_type": "code",
   "execution_count": 7,
   "metadata": {},
   "outputs": [],
   "source": [
    "with open(\"template-pixel.pbrt\", \"r\") as f:\n",
    "    template_file = f.read()\n",
    "\n",
    "assert template_file != \"\""
   ]
  },
  {
   "cell_type": "code",
   "execution_count": 8,
   "metadata": {},
   "outputs": [],
   "source": [
    "for i in range(len(points)):\n",
    "        mel = points[i][0]\n",
    "        hg = points[i][1]\n",
    "        epth = points[i][2]\n",
    "\n",
    "        output = template_file.replace(mel_string, f'{mel}')\n",
    "        output = output.replace(hg_string, f'{hg}')\n",
    "        output = output.replace(epth_string, f'{epth}e6')\n",
    "\n",
    "        with open(f\"pbrt-inputs-per-point/{mel}mel-{hg}hg-{epth}epth.pbrt\", \"w\") as f:\n",
    "            f.write(output)"
   ]
  },
  {
   "cell_type": "markdown",
   "metadata": {},
   "source": [
    "# ---------------------------------------------------------------------------------------"
   ]
  },
  {
   "cell_type": "code",
   "execution_count": 2,
   "metadata": {},
   "outputs": [],
   "source": [
    "for subj_id in range(23):\n",
    "    output_data = Path(f'output-data/S{subj_id:03d}')\n",
    "    mel_paths = sorted(output_data.glob('**/out-mel/*.txt'))\n",
    "    hg_paths = sorted(output_data.glob('**/out-hem/*.txt'))\n",
    "    epth_paths = sorted(output_data.glob('**/out-epth/*.txt'))\n",
    "\n",
    "    \n",
    "    mels =[np.loadtxt(f, delimiter=',') for f in mel_paths]\n",
    "    hgs = [np.loadtxt(f, delimiter=',') for f in hg_paths]\n",
    "    epths = [np.loadtxt(f, delimiter=',') for f in epth_paths]\n",
    "\n",
    "    Path(f\"interpolated-patches-per-point/S{subj_id:03d}\").mkdir(parents=True, exist_ok=True)\n",
    "\n",
    "    for i in range(len(mel_paths)):\n",
    "        patch_mels = mels[i]\n",
    "        patch_hgs = hgs[i]\n",
    "        patch_epths = epths[i]\n",
    "\n",
    "        h, w = patch_mels.shape\n",
    "        interpolated = np.zeros((h,w,3), dtype='float32')\n",
    "\n",
    "        for row in range(h):\n",
    "            for col in range(w):\n",
    "                mel_p = patch_mels[row,col]\n",
    "                hg_p = patch_hgs[row,col]\n",
    "                epth_p = patch_epths[row,col] * 0.001\n",
    "\n",
    "                \n",
    "                interpolated[row,col,:] = cv2.imread(f\"pbrt-outputs-per-point/{mel_p}mel-{hg_p}hg-{epth_p}epth.exr\", cv2.IMREAD_ANYCOLOR | cv2.IMREAD_ANYDEPTH)\n",
    "                \n",
    "        cv2.imwrite(f\"interpolated-patches-per-point/S{subj_id:03d}/{i:03d}.exr\", interpolated)"
   ]
  }
 ],
 "metadata": {
  "kernelspec": {
   "display_name": "ml_env",
   "language": "python",
   "name": "python3"
  },
  "language_info": {
   "codemirror_mode": {
    "name": "ipython",
    "version": 3
   },
   "file_extension": ".py",
   "mimetype": "text/x-python",
   "name": "python",
   "nbconvert_exporter": "python",
   "pygments_lexer": "ipython3",
   "version": "3.10.10"
  }
 },
 "nbformat": 4,
 "nbformat_minor": 2
}
